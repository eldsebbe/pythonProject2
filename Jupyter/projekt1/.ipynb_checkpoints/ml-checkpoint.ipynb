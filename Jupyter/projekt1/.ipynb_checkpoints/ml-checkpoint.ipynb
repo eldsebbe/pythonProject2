{
 "cells": [
  {
   "cell_type": "code",
   "execution_count": 91,
   "id": "478fc2b9",
   "metadata": {},
   "outputs": [],
   "source": [
    "#importing all needed directories\n",
    "\n",
    "import pandas as pd\n",
    "import matplotlib.pyplot as plt"
   ]
  },
  {
   "cell_type": "code",
   "execution_count": 99,
   "id": "a48bff7b",
   "metadata": {},
   "outputs": [],
   "source": [
    "# reading the database\n",
    "\n",
    "data = pd.read_csv(\"iris.csv\")\n"
   ]
  },
  {
   "cell_type": "code",
   "execution_count": 26,
   "id": "1b7fca41",
   "metadata": {},
   "outputs": [],
   "source": [
    "#preparing separete csv files for future specified use.\n",
    "\n",
    "setosa = []\n",
    "versicolor = []\n",
    "virginica = []\n"
   ]
  },
  {
   "cell_type": "code",
   "execution_count": 27,
   "id": "6ce502f1",
   "metadata": {},
   "outputs": [],
   "source": [
    " #saving the separete values from the original csv file\n",
    "    \n",
    "for a in range(1,150):\n",
    "    \n",
    "    if data.iloc[a][\"class\"]==\"Iris-setosa\":\n",
    "        setosa.append(data.iloc[a])\n",
    "    elif data.iloc[a][\"class\"]==\"Iris-versicolor\":\n",
    "        versicolor.append(data.iloc[a])\n",
    "    elif data.iloc[a][\"class\"]==\"Iris-virginica\":\n",
    "        virginica.append(data.iloc[a])\n"
   ]
  },
  {
   "cell_type": "code",
   "execution_count": 28,
   "id": "894210c7",
   "metadata": {},
   "outputs": [],
   "source": [
    "#saves the data into seperate csv files for future use is not used in these examples but if more was needed it would be useful\n",
    "\n",
    "setosa_df = pd.DataFrame(setosa)\n",
    "setosa_df.to_csv(\"setosa.csv\", index=False)\n",
    "\n",
    "versicolor_df = pd.DataFrame(versicolor)\n",
    "versicolor_df.to_csv(\"versicolor.csv\", index=False)\n",
    "\n",
    "virginica_df = pd.DataFrame(virginica)\n",
    "virginica_df.to_csv(\"virginica.csv\", index=False)"
   ]
  },
  {
   "cell_type": "code",
   "execution_count": 81,
   "id": "5364767e",
   "metadata": {},
   "outputs": [],
   "source": [
    "#combines and makes a median value of each catigory of each iris flower. then makes usable lists for future use\n",
    "\n",
    "setosa_slenght = round(sum([setosa[i][\"sepal_length\"] for i in range(len(setosa))])/50, 1)\n",
    "setosa_swidth = round(sum([setosa[i][\"sepal_width\"] for i in range(len(setosa))])/50, 1)\n",
    "setosa_plenght = round(sum([setosa[i][\"petal_length\"] for i in range(len(setosa))])/50, 1)\n",
    "setosa_pwidth = round(sum([setosa[i][\"petal_width\"] for i in range(len(setosa))])/50, 1)\n",
    "\n",
    "versicolor_slenght = round(sum([versicolor[i][\"sepal_length\"] for i in range(len(versicolor))])/50, 1)\n",
    "versicolor_swidth = round(sum([versicolor[i][\"sepal_width\"] for i in range(len(versicolor))])/50, 1)\n",
    "versicolor_plenght = round(sum([versicolor[i][\"petal_length\"] for i in range(len(versicolor))])/50, 1)\n",
    "versicolor_pwidth = round(sum([versicolor[i][\"petal_width\"] for i in range(len(versicolor))])/50, 1)\n",
    "\n",
    "virginica_slenght = round(sum([virginica[i][\"sepal_length\"] for i in range(len(virginica))])/50, 1)\n",
    "virginica_swidth = round(sum([virginica[i][\"sepal_width\"] for i in range(len(virginica))])/50, 1)\n",
    "virginica_plenght = round(sum([virginica[i][\"petal_length\"] for i in range(len(virginica))])/50, 1)\n",
    "virginica_pwidth = round(sum([virginica[i][\"petal_width\"] for i in range(len(virginica))])/50, 1)\n",
    "\n",
    "setosa_median={\"sepal_length\": setosa_slenght,\n",
    "               \"sepal_width\": setosa_swidth,\n",
    "               \"petal_length\": setosa_plenght,\n",
    "               \"petal_width\": setosa_pwidth,\n",
    "               \"class\": \"Iris-setosa\"\n",
    "}\n",
    "\n",
    "versicolor_median={\"sepal_length\": versicolor_slenght,\n",
    "               \"sepal_width\": versicolor_swidth,\n",
    "               \"petal_length\": versicolor_plenght,\n",
    "               \"petal_width\": versicolor_pwidth,\n",
    "               \"class\": \"Iris-versicolor\"\n",
    "}\n",
    "\n",
    "virginica_median={\"sepal_length\": virginica_slenght,\n",
    "               \"sepal_width\": virginica_swidth,\n",
    "               \"petal_length\": virginica_plenght,\n",
    "               \"petal_width\": virginica_pwidth,\n",
    "               \"class\": \"Iris-virginica\"\n",
    "}\n",
    "\n"
   ]
  },
  {
   "cell_type": "code",
   "execution_count": 59,
   "id": "d462dd6c",
   "metadata": {
    "scrolled": true
   },
   "outputs": [
    {
     "name": "stdout",
     "output_type": "stream",
     "text": [
      "sepal_length4.6\n",
      "sepal_width3.1\n",
      "petal_length1.5\n",
      "petal_width0.2\n"
     ]
    }
   ],
   "source": [
    "#making the test data for testing of machine learning functions\n",
    "\n",
    "#sepal_length, sepal_width, petal_length, petal_width, class\n",
    "\n",
    "#saved examples (4.6, 3.1, 1.5, 0.2, Iris-setosa) (5.5, 3.5, 1.3, 0.2, Iris-setosa)  \n",
    "# (6.0, 2.9, 4.5, 1.5, Iris-versicolor)  (6.7, 3.0, 5.2, 2.3, Iris-virginica)\n",
    "\n",
    "\n",
    "temp_x=float(input(\"sepal_length\"))\n",
    "temp_y=float(input(\"sepal_width\"))\n",
    "temp_z=float(input(\"petal_length\"))\n",
    "temp_o=float(input(\"petal_width\"))\n",
    "temp_z2=\"unknown\"\n",
    "\n",
    "iris_test = {\"sepal_length\": temp_x,\n",
    "                \"sepal_width\": temp_y,\n",
    "                \"petal_length\": temp_z,\n",
    "                \"petal_width\": temp_o,\n",
    "                \"class\": temp_z2}\n",
    "\n"
   ]
  },
  {
   "cell_type": "code",
   "execution_count": 65,
   "id": "b620f315",
   "metadata": {
    "scrolled": true
   },
   "outputs": [
    {
     "name": "stdout",
     "output_type": "stream",
     "text": [
      "spela_lenght, sepal_width, petal_length, petal_widthsepal_length\n"
     ]
    }
   ],
   "source": [
    "#gives the choice of witch part of the iris that shall be tested.\n",
    "\n",
    "iris_search = str(input(\"sepal_length, sepal_width, petal_length, petal_width\"))"
   ]
  },
  {
   "cell_type": "code",
   "execution_count": 63,
   "id": "421c0823",
   "metadata": {},
   "outputs": [
    {
     "name": "stdout",
     "output_type": "stream",
     "text": [
      "Iris-setosa\n"
     ]
    }
   ],
   "source": [
    "#machine learning closest all to given value, the value closest to zero is closer to the given length as such giving us a class for the given plant\n",
    "#this technice is slow but tests the given value against every other value to find the closest. witch it gains it's class from.\n",
    "\n",
    "saved_a=100\n",
    "\n",
    "for a in range(1,150):\n",
    "    \n",
    "    if abs(iris_test[iris_search]-data.iloc[a][iris_search])<saved_a:\n",
    "        saved_a=abs(iris_test[iris_search]-data.iloc[a][iris_search])\n",
    "        iris_type= data.iloc[a][\"class\"]\n",
    "\n",
    "print(iris_type)\n",
    "iris_test[\"class\"] = iris_type"
   ]
  },
  {
   "cell_type": "code",
   "execution_count": 79,
   "id": "e85050f5",
   "metadata": {
    "scrolled": true
   },
   "outputs": [
    {
     "name": "stdout",
     "output_type": "stream",
     "text": [
      "{'median_sepal_length': 4.9, 'median_sepal_width': 3.3, 'median_petal_length': 1.4, 'median_petal_width': 0.2, 'class': 'Iris-setosa'}\n"
     ]
    }
   ],
   "source": [
    "#machine learning meadian closest with average of all seperate classes, \n",
    "#is more doable on larger scale but can over round figures and lower it's accuracy\n",
    "\n",
    "setosa_testmedian = round(abs(setosa_median[iris_search]-iris_test[iris_search]),1)\n",
    "versicolor_testmedian = round(abs(versicolor_median[iris_search]-iris_test[iris_search]),1)\n",
    "virginica_testmedian = round(abs(virginica_median[iris_search]-iris_test[iris_search]),1)\n",
    "\n",
    "if setosa_testmedian < versicolor_testmedian and setosa_testmedian < virginica_testmedian:\n",
    "    iris_test[\"class\"] = \"Iris-setosa\"\n",
    "    \n",
    "    \n",
    "elif versicolor_testmedian < setosa_testmedian and versicolor_testmedian < virginica_testmedian:\n",
    "    iris_test[\"class\"] = \"Iris-versicolor\"\n",
    "    \n",
    "    \n",
    "else:\n",
    "    iris_test[\"class\"] = \"Iris-virginica\"\n",
    "    \n"
   ]
  },
  {
   "cell_type": "code",
   "execution_count": 106,
   "id": "1ed8bbd6",
   "metadata": {},
   "outputs": [
    {
     "data": {
      "image/png": "[encoded data removed]",
      "text/plain": [
       "<Figure size 640x480 with 1 Axes>"
      ]
     },
     "metadata": {},
     "output_type": "display_data"
    }
   ],
   "source": [
    "#plots to show data used in iris can be changed to display different data\n",
    "\n",
    "class_copy = pd.Categorical(data['class'])\n",
    "class_copy = class_copy.codes\n",
    "\n",
    "X = data.iloc[:, :-1].values\n",
    "y = class_copy\n",
    "\n",
    "plt.scatter(X[:, 0], X[:, 1], c=y, cmap=plt.cm.Set1,\n",
    "            edgecolor='k')\n",
    "plt.xlabel('Sepal length')\n",
    "plt.ylabel('Sepal width')\n",
    "\n",
    "plt.show()"
   ]
  },
  {
   "cell_type": "code",
   "execution_count": null,
   "id": "0b6218dd",
   "metadata": {},
   "outputs": [],
   "source": [
    "#My choice for the better model would be the median model. although it generalises data it also more efficently divides upp \n",
    "#the computer and saves it into a more comprehensive way. the other model tests everything against 1 thing. while the other model\n",
    "#tests medians already preloaded and made against the new variable. largescale this can and will save a lot of time. "
   ]
  },
  {
   "cell_type": "code",
   "execution_count": null,
   "id": "ce722f4e",
   "metadata": {
    "scrolled": true
   },
   "outputs": [],
   "source": []
  },
  {
   "cell_type": "code",
   "execution_count": null,
   "id": "09ccba44",
   "metadata": {},
   "outputs": [],
   "source": []
  }
 ],
 "metadata": {
  "kernelspec": {
   "display_name": "Python 3 (ipykernel)",
   "language": "python",
   "name": "python3"
  },
  "language_info": {
   "codemirror_mode": {
    "name": "ipython",
    "version": 3
   },
   "file_extension": ".py",
   "mimetype": "text/x-python",
   "name": "python",
   "nbconvert_exporter": "python",
   "pygments_lexer": "ipython3",
   "version": "3.9.13"
  }
 },
 "nbformat": 4,
 "nbformat_minor": 5
}
