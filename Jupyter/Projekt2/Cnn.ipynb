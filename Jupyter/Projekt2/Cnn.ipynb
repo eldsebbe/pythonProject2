{
 "cells": [
  {
   "cell_type": "code",
   "execution_count": 136,
   "id": "c56ed291",
   "metadata": {
    "scrolled": true
   },
   "outputs": [],
   "source": [
    "# importing needed datasets for mnist\n",
    "import tensorflow as tf\n",
    "from tensorflow.keras import datasets\n",
    "from tensorflow.keras.models import Sequential\n",
    "from tensorflow import keras\n",
    "from tensorflow.keras import layers, models\n",
    "\n",
    "\n",
    "import pandas as pd\n",
    "import numpy as np\n",
    "import matplotlib.pyplot as plt"
   ]
  },
  {
   "cell_type": "code",
   "execution_count": 137,
   "id": "e7aa1cc3",
   "metadata": {
    "scrolled": true
   },
   "outputs": [],
   "source": [
    "#Sparar datan till train och test dataset\n",
    "\n",
    "(x_train, y_train), (x_test, y_test) = keras.datasets.mnist.load_data()"
   ]
  },
  {
   "cell_type": "code",
   "execution_count": 138,
   "id": "5559c463",
   "metadata": {},
   "outputs": [],
   "source": [
    "#normaliserar test och traindataseten\n",
    "\n",
    "num_classes = 10\n",
    "input_shape = (28, 28, 1)\n",
    "\n",
    "x_train = x_train.astype(\"float32\") / 255\n",
    "x_test = x_test.astype(\"float32\") / 255"
   ]
  },
  {
   "cell_type": "code",
   "execution_count": 139,
   "id": "006e73f2",
   "metadata": {},
   "outputs": [],
   "source": [
    "#avrundar datan till 1:ttor och 0:or\n",
    "x_train = np.around(x_train)\n",
    "x_test = np.around(x_test)"
   ]
  },
  {
   "cell_type": "code",
   "execution_count": 123,
   "id": "f17bd88f",
   "metadata": {
    "scrolled": true
   },
   "outputs": [],
   "source": [
    "#expanderar dim\n",
    "\n",
    "\n",
    "x_train = np.expand_dims(x_train, -1)\n",
    "x_test = np.expand_dims(x_test, -1)"
   ]
  },
  {
   "cell_type": "code",
   "execution_count": 140,
   "id": "01a8befe",
   "metadata": {},
   "outputs": [],
   "source": [
    "#omderiskerar datan mer\n",
    "\n",
    "\n",
    "y_train = keras.utils.to_categorical(y_train, num_classes)\n",
    "y_test = keras.utils.to_categorical(y_test, num_classes)"
   ]
  },
  {
   "cell_type": "code",
   "execution_count": 141,
   "id": "7ed40bc4",
   "metadata": {},
   "outputs": [
    {
     "name": "stdout",
     "output_type": "stream",
     "text": [
      "x_train shape: (60000, 28, 28)\n",
      "60000 train samples\n",
      "10000 test samples\n"
     ]
    }
   ],
   "source": [
    "#Testa för att se om det fungerar\n",
    "\n",
    "print(\"x_train shape:\", x_train.shape)\n",
    "print(x_train.shape[0], \"train samples\")\n",
    "print(x_test.shape[0], \"test samples\" )"
   ]
  },
  {
   "cell_type": "code",
   "execution_count": 126,
   "id": "143b380e",
   "metadata": {},
   "outputs": [
    {
     "name": "stdout",
     "output_type": "stream",
     "text": [
      "Model: \"sequential_2\"\n",
      "_________________________________________________________________\n",
      " Layer (type)                Output Shape              Param #   \n",
      "=================================================================\n",
      " conv2d_4 (Conv2D)           (None, 26, 26, 32)        320       \n",
      "                                                                 \n",
      " max_pooling2d_4 (MaxPoolin  (None, 13, 13, 32)        0         \n",
      " g2D)                                                            \n",
      "                                                                 \n",
      " conv2d_5 (Conv2D)           (None, 11, 11, 64)        18496     \n",
      "                                                                 \n",
      " max_pooling2d_5 (MaxPoolin  (None, 5, 5, 64)          0         \n",
      " g2D)                                                            \n",
      "                                                                 \n",
      " flatten_2 (Flatten)         (None, 1600)              0         \n",
      "                                                                 \n",
      " dropout_2 (Dropout)         (None, 1600)              0         \n",
      "                                                                 \n",
      " dense_2 (Dense)             (None, 10)                16010     \n",
      "                                                                 \n",
      "=================================================================\n",
      "Total params: 34826 (136.04 KB)\n",
      "Trainable params: 34826 (136.04 KB)\n",
      "Non-trainable params: 0 (0.00 Byte)\n",
      "_________________________________________________________________\n"
     ]
    }
   ],
   "source": [
    "#skappar modelen som används\n",
    "\n",
    "model = keras.Sequential(\n",
    "    [\n",
    "        keras.Input(shape=input_shape),\n",
    "        layers.Conv2D(32, kernel_size=(3, 3), activation=\"relu\"),\n",
    "        layers.MaxPooling2D(pool_size=(2, 2)),\n",
    "        layers.Conv2D(64, kernel_size=(3, 3), activation=\"relu\"),\n",
    "        layers.MaxPooling2D(pool_size=(2, 2)),\n",
    "        layers.Flatten(),\n",
    "        layers.Dropout(0.5),\n",
    "        layers.Dense(num_classes, activation=\"softmax\"),\n",
    "    ]\n",
    ")\n",
    "\n",
    "model.summary()\n"
   ]
  },
  {
   "cell_type": "code",
   "execution_count": 151,
   "id": "0b8b7d87",
   "metadata": {},
   "outputs": [],
   "source": [
    "#compilerar modellen samt kan man sätta in batch-sizen och epocherna själv för mer träffsäker eller snabbare laddande data\n",
    "\n",
    "batch_size = 126\n",
    "epochs = 5\n",
    "\n",
    "model.compile(loss=\"categorical_crossentropy\", optimizer=\"adam\", metrics=[\"accuracy\"])"
   ]
  },
  {
   "cell_type": "code",
   "execution_count": 108,
   "id": "12273d6d",
   "metadata": {
    "scrolled": false
   },
   "outputs": [
    {
     "name": "stdout",
     "output_type": "stream",
     "text": [
      "Epoch 1/5\n",
      "235/235 [==============================] - 19s 80ms/step - loss: 0.4628 - accuracy: 0.8628 - val_loss: 0.1104 - val_accuracy: 0.9664\n",
      "Epoch 2/5\n",
      "235/235 [==============================] - 21s 87ms/step - loss: 0.1358 - accuracy: 0.9590 - val_loss: 0.0735 - val_accuracy: 0.9767\n",
      "Epoch 3/5\n",
      "235/235 [==============================] - 20s 86ms/step - loss: 0.1019 - accuracy: 0.9690 - val_loss: 0.0576 - val_accuracy: 0.9820\n",
      "Epoch 4/5\n",
      "235/235 [==============================] - 20s 86ms/step - loss: 0.0840 - accuracy: 0.9742 - val_loss: 0.0517 - val_accuracy: 0.9836\n",
      "Epoch 5/5\n",
      "235/235 [==============================] - 21s 90ms/step - loss: 0.0742 - accuracy: 0.9774 - val_loss: 0.0456 - val_accuracy: 0.9847\n"
     ]
    }
   ],
   "source": [
    "#Testar och validerar sig själv mot test datan\n",
    "\n",
    "history = model.fit(x_train, y_train, batch_size=batch_size, epochs=epochs, \n",
    "                    validation_data=(x_test, y_test))"
   ]
  },
  {
   "cell_type": "code",
   "execution_count": 109,
   "id": "a60f223a",
   "metadata": {
    "scrolled": false
   },
   "outputs": [
    {
     "name": "stdout",
     "output_type": "stream",
     "text": [
      "Epoch 1/5\n",
      "211/211 [==============================] - 19s 90ms/step - loss: 0.0692 - accuracy: 0.9787 - val_loss: 0.0404 - val_accuracy: 0.9892\n",
      "Epoch 2/5\n",
      "211/211 [==============================] - 20s 95ms/step - loss: 0.0620 - accuracy: 0.9805 - val_loss: 0.0391 - val_accuracy: 0.9903\n",
      "Epoch 3/5\n",
      "211/211 [==============================] - 20s 94ms/step - loss: 0.0596 - accuracy: 0.9815 - val_loss: 0.0399 - val_accuracy: 0.9898\n",
      "Epoch 4/5\n",
      "211/211 [==============================] - 21s 98ms/step - loss: 0.0569 - accuracy: 0.9824 - val_loss: 0.0378 - val_accuracy: 0.9898\n",
      "Epoch 5/5\n",
      "211/211 [==============================] - 18s 85ms/step - loss: 0.0522 - accuracy: 0.9836 - val_loss: 0.0368 - val_accuracy: 0.9893\n"
     ]
    }
   ],
   "source": [
    "#testar och validerar sig själv mot sig själv 10%\n",
    "\n",
    "history2 = model.fit(x_train, y_train, batch_size=batch_size, epochs=epochs, validation_split=0.1)\n"
   ]
  },
  {
   "cell_type": "code",
   "execution_count": 155,
   "id": "b0338e8d",
   "metadata": {
    "scrolled": false
   },
   "outputs": [
    {
     "data": {
      "image/png": "[encoded data removed]",
      "text/plain": [
       "<Figure size 800x800 with 1 Axes>"
      ]
     },
     "metadata": {},
     "output_type": "display_data"
    }
   ],
   "source": [
    "#plotar ut datan som sammanfallit\n",
    "\n",
    "plt.figure(figsize=(8, 8))\n",
    "plt.plot(history3.history['accuracy'], label='accuracy')\n",
    "plt.plot(history3.history['val_accuracy'], label = 'val_accuracy')\n",
    "plt.xlabel('Epoch')\n",
    "plt.ylabel('Accuracy')\n",
    "plt.legend(loc='lower right')\n",
    "\n",
    "plt.savefig(\"output_report.png\")"
   ]
  },
  {
   "cell_type": "code",
   "execution_count": 121,
   "id": "548f55a1",
   "metadata": {},
   "outputs": [],
   "source": [
    "#inför andra model\n",
    "\n",
    "x_train2 = np.stack((x_train,)*3, axis=-1)\n",
    "x_test2 = np.stack((x_test,)*3, axis=-1)"
   ]
  },
  {
   "cell_type": "code",
   "execution_count": 142,
   "id": "99489b86",
   "metadata": {},
   "outputs": [
    {
     "name": "stdout",
     "output_type": "stream",
     "text": [
      "x_train shape: (60000, 28, 28, 3)\n"
     ]
    }
   ],
   "source": [
    "print(\"x_train shape:\", x_train2.shape)"
   ]
  },
  {
   "cell_type": "code",
   "execution_count": 143,
   "id": "872fa3dc",
   "metadata": {},
   "outputs": [],
   "source": [
    "#dataset för resnet50\n",
    "\n",
    "from tensorflow.keras.applications.resnet50 import ResNet50\n",
    "from tensorflow.keras.models import Sequential\n",
    "from tensorflow.keras.layers import Dense"
   ]
  },
  {
   "cell_type": "code",
   "execution_count": 152,
   "id": "20586f48",
   "metadata": {
    "scrolled": true
   },
   "outputs": [
    {
     "name": "stdout",
     "output_type": "stream",
     "text": [
      "Model: \"sequential_5\"\n",
      "_________________________________________________________________\n",
      " Layer (type)                Output Shape              Param #   \n",
      "=================================================================\n",
      " resnet50 (Functional)       (None, 2048)              23587712  \n",
      "                                                                 \n",
      " dense_7 (Dense)             (None, 512)               1049088   \n",
      "                                                                 \n",
      " dense_8 (Dense)             (None, 10)                5130      \n",
      "                                                                 \n",
      "=================================================================\n",
      "Total params: 24641930 (94.00 MB)\n",
      "Trainable params: 1054218 (4.02 MB)\n",
      "Non-trainable params: 23587712 (89.98 MB)\n",
      "_________________________________________________________________\n"
     ]
    }
   ],
   "source": [
    "#load once for resnet50 har trainable av för lag\n",
    "\n",
    "model2 = Sequential()\n",
    "\n",
    "model2.add(ResNet50(include_top=False, pooling=\"avg\", weights=\"imagenet\"))\n",
    "\n",
    "model2.add(Dense(512, activation=\"relu\"))\n",
    "model2.add(Dense(10, activation=\"softmax\"))\n",
    "\n",
    "model2.layers[0].trainable=False\n",
    "model2.summary()"
   ]
  },
  {
   "cell_type": "code",
   "execution_count": 153,
   "id": "592f4f3a",
   "metadata": {},
   "outputs": [],
   "source": [
    "#compilering av resnet50 modellen\n",
    "\n",
    "model2.compile(loss=\"categorical_crossentropy\", optimizer=\"adam\", metrics=[\"accuracy\"])"
   ]
  },
  {
   "cell_type": "code",
   "execution_count": 154,
   "id": "bd3abdb4",
   "metadata": {},
   "outputs": [
    {
     "name": "stdout",
     "output_type": "stream",
     "text": [
      "Epoch 1/5\n",
      "477/477 [==============================] - 118s 243ms/step - loss: 0.6403 - accuracy: 0.8072 - val_loss: 0.3723 - val_accuracy: 0.8843\n",
      "Epoch 2/5\n",
      "477/477 [==============================] - 129s 271ms/step - loss: 0.3529 - accuracy: 0.8901 - val_loss: 0.2983 - val_accuracy: 0.9063\n",
      "Epoch 3/5\n",
      "477/477 [==============================] - 140s 293ms/step - loss: 0.2994 - accuracy: 0.9047 - val_loss: 0.2552 - val_accuracy: 0.9198\n",
      "Epoch 4/5\n",
      "477/477 [==============================] - 136s 286ms/step - loss: 0.2675 - accuracy: 0.9146 - val_loss: 0.2597 - val_accuracy: 0.9155\n",
      "Epoch 5/5\n",
      "477/477 [==============================] - 140s 293ms/step - loss: 0.2449 - accuracy: 0.9227 - val_loss: 0.2309 - val_accuracy: 0.9225\n"
     ]
    }
   ],
   "source": [
    "history3 = model2.fit(x_train2, y_train, batch_size=batch_size, epochs=epochs, validation_data=(x_test2, y_test))"
   ]
  },
  {
   "cell_type": "code",
   "execution_count": 50,
   "id": "ffbce012",
   "metadata": {
    "scrolled": true
   },
   "outputs": [],
   "source": []
  }
 ],
 "metadata": {
  "kernelspec": {
   "display_name": "Python 3 (ipykernel)",
   "language": "python",
   "name": "python3"
  },
  "language_info": {
   "codemirror_mode": {
    "name": "ipython",
    "version": 3
   },
   "file_extension": ".py",
   "mimetype": "text/x-python",
   "name": "python",
   "nbconvert_exporter": "python",
   "pygments_lexer": "ipython3",
   "version": "3.9.13"
  }
 },
 "nbformat": 4,
 "nbformat_minor": 5
}
