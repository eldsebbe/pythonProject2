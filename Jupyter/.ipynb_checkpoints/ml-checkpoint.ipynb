{
 "cells": [
  {
   "cell_type": "code",
   "execution_count": 24,
   "id": "b36ffca6",
   "metadata": {},
   "outputs": [],
   "source": [
    "#importing all needed directories\n",
    "\n",
    "import pandas as pd\n",
    "import sqlite3\n",
    "import requests\n"
   ]
  },
  {
   "cell_type": "code",
   "execution_count": 25,
   "id": "9b91a8aa",
   "metadata": {},
   "outputs": [],
   "source": [
    "# reading the database\n",
    "\n",
    "data = pd.read_csv(\"iris.csv\")\n"
   ]
  },
  {
   "cell_type": "code",
   "execution_count": 26,
   "id": "465e7d1d",
   "metadata": {},
   "outputs": [],
   "source": [
    "#preparing separete csv files for future specified use.\n",
    "\n",
    "setosa = []\n",
    "versicolor = []\n",
    "virginica = []\n"
   ]
  },
  {
   "cell_type": "code",
   "execution_count": 27,
   "id": "a9caa2cc",
   "metadata": {},
   "outputs": [],
   "source": [
    " #saving the separete values from the original csv file\n",
    "    \n",
    "for a in range(1,150):\n",
    "    \n",
    "    if data.iloc[a][\"class\"]==\"Iris-setosa\":\n",
    "        setosa.append(data.iloc[a])\n",
    "    elif data.iloc[a][\"class\"]==\"Iris-versicolor\":\n",
    "        versicolor.append(data.iloc[a])\n",
    "    elif data.iloc[a][\"class\"]==\"Iris-virginica\":\n",
    "        virginica.append(data.iloc[a])\n"
   ]
  },
  {
   "cell_type": "code",
   "execution_count": 28,
   "id": "a6257dac",
   "metadata": {},
   "outputs": [],
   "source": [
    "#saves the data into seperate csv files for future use\n",
    "\n",
    "setosa_df = pd.DataFrame(setosa)\n",
    "setosa_df.to_csv(\"setosa.csv\", index=False)\n",
    "\n",
    "versicolor_df = pd.DataFrame(versicolor)\n",
    "versicolor_df.to_csv(\"versicolor.csv\", index=False)\n",
    "\n",
    "virginica_df = pd.DataFrame(virginica)\n",
    "virginica_df.to_csv(\"virginica.csv\", index=False)"
   ]
  },
  {
   "cell_type": "code",
   "execution_count": 73,
   "id": "11300b47",
   "metadata": {},
   "outputs": [
    {
     "name": "stdout",
     "output_type": "stream",
     "text": [
      "yess\n"
     ]
    }
   ],
   "source": [
    "#combines and makes a median value of each catigory of each iris flower.\n",
    "\n",
    "setosa_slenght = sum([setosa[i][\"sepal_length\"] for i in range(len(setosa))])/50\n",
    "setosa_swidth = sum([setosa[i][\"sepal_width\"] for i in range(len(setosa))])/50\n",
    "setosa_plenght = sum([setosa[i][\"petal_length\"] for i in range(len(setosa))])/50\n",
    "setosa_pwidth = sum([setosa[i][\"petal_width\"] for i in range(len(setosa))])/50\n",
    "\n",
    "versicolor_slenght = sum([versicolor[i][\"sepal_length\"] for i in range(len(versicolor))])/50\n",
    "versicolor_swidth = sum([versicolor[i][\"sepal_width\"] for i in range(len(versicolor))])/50\n",
    "versicolor_plenght = sum([versicolor[i][\"petal_length\"] for i in range(len(versicolor))])/50\n",
    "versicolor_pwidth = sum([versicolor[i][\"petal_width\"] for i in range(len(versicolor))])/50\n",
    "\n",
    "virginica_slenght = sum([virginica[i][\"sepal_length\"] for i in range(len(virginica))])/50\n",
    "virginica_swidth = sum([virginica[i][\"sepal_width\"] for i in range(len(virginica))])/50\n",
    "virginica_plenght = sum([virginica[i][\"petal_length\"] for i in range(len(virginica))])/50\n",
    "virginica_pwidth = sum([virginica[i][\"petal_width\"] for i in range(len(virginica))])/50\n",
    "\n",
    "\n",
    "setosa_median={\"median_sepal_length\": setosa_slenght,\n",
    "               \"median_sepal_width\": setosa_swidth,\n",
    "               \"median_petal_length\": setosa_plenght,\n",
    "               \"median_petal_width\": setosa_pwidth\n",
    "}\n",
    "\n",
    "versicolor_median={\"median_sepal_length\": versicolor_slenght,\n",
    "               \"median_sepal_width\": versicolor_swidth,\n",
    "               \"median_petal_length\": versicolor_plenght,\n",
    "               \"median_petal_width\": versicolor_pwidth\n",
    "\n",
    "}\n",
    "\n",
    "virginica_median={\"median_sepal_length\": virginica_slenght,\n",
    "               \"median_sepal_width\": virginica_swidth,\n",
    "               \"median_petal_length\": virginica_plenght,\n",
    "               \"median_petal_width\": virginica_pwidth\n",
    "}\n",
    "\n",
    "\n",
    "print(\"yess\")"
   ]
  },
  {
   "cell_type": "code",
   "execution_count": 59,
   "id": "ed43339b",
   "metadata": {
    "scrolled": true
   },
   "outputs": [
    {
     "name": "stdout",
     "output_type": "stream",
     "text": [
      "sepal_length4.6\n",
      "sepal_width3.1\n",
      "petal_length1.5\n",
      "petal_width0.2\n"
     ]
    }
   ],
   "source": [
    "#making the test data for testing of machine learning functions\n",
    "\n",
    "#sepal_length, sepal_width, petal_length, petal_width, class\n",
    "\n",
    "#saved examples (4.6, 3.1, 1.5, 0.2, Iris-setosa) (5.5, 3.5, 1.3, 0.2, Iris-setosa)  \n",
    "# (6.0, 2.9, 4.5, 1.5, Iris-versicolor)  (6.7, 3.0, 5.2, 2.3, Iris-virginica)\n",
    "\n",
    "\n",
    "temp_x=float(input(\"sepal_length\"))\n",
    "temp_y=float(input(\"sepal_width\"))\n",
    "temp_z=float(input(\"petal_length\"))\n",
    "temp_o=float(input(\"petal_width\"))\n",
    "temp_z2=\"unknown\"\n",
    "\n",
    "iris_test = {\"sepal_length\": temp_x,\n",
    "                \"sepal_width\": temp_y,\n",
    "                \"petal_length\": temp_z,\n",
    "                \"petal_width\": temp_o,\n",
    "                \"class\": temp_z2}\n",
    "\n"
   ]
  },
  {
   "cell_type": "code",
   "execution_count": 65,
   "id": "406df170",
   "metadata": {
    "scrolled": true
   },
   "outputs": [
    {
     "name": "stdout",
     "output_type": "stream",
     "text": [
      "spela_lenght, sepal_width, petal_length, petal_widthsepal_length\n"
     ]
    }
   ],
   "source": [
    "#gives the choice of witch part of the iris that shall be tested.\n",
    "\n",
    "iris_search = str(input(\"sepal_length, sepal_width, petal_length, petal_width\"))"
   ]
  },
  {
   "cell_type": "code",
   "execution_count": 63,
   "id": "23b5fc15",
   "metadata": {},
   "outputs": [
    {
     "name": "stdout",
     "output_type": "stream",
     "text": [
      "Iris-setosa\n"
     ]
    }
   ],
   "source": [
    "#machine learning closest all to given value, the value closest to zero is closer to the given length as such giving us a class for the given plant\n",
    "#this technice is slow but tests the given value against every other value to find the closest. witch it gains it's class from.\n",
    "\n",
    "saved_a=100\n",
    "\n",
    "for a in range(1,150):\n",
    "    \n",
    "    if abs(iris_test[iris_search]-data.iloc[a][iris_search])<saved_a:\n",
    "        saved_a=abs(iris_test[iris_search]-data.iloc[a][iris_search])\n",
    "        iris_type= data.iloc[a][\"class\"]\n",
    "\n",
    "print(iris_type)\n",
    "iris_test[\"class\"] = iris_type"
   ]
  },
  {
   "cell_type": "code",
   "execution_count": 64,
   "id": "5c000302",
   "metadata": {},
   "outputs": [
    {
     "name": "stdout",
     "output_type": "stream",
     "text": [
      "{'sepal_length': 4.6, 'sepal_width': 3.1, 'petal_length': 1.5, 'petal_width': 0.2, 'class': 'Iris-setosa'}\n"
     ]
    }
   ],
   "source": [
    "#machine learning x closest\n"
   ]
  },
  {
   "cell_type": "code",
   "execution_count": null,
   "id": "6d2e9d26",
   "metadata": {},
   "outputs": [],
   "source": [
    "#machine learning meadian closest with average of all seperate classes\n",
    "\n"
   ]
  },
  {
   "cell_type": "code",
   "execution_count": null,
   "id": "f4e81f0f",
   "metadata": {},
   "outputs": [],
   "source": [
    "for hourly_data in data[\"hourly\"].apply(pd.Series).iterrows():\n",
    "    timestamps.append(hourly_data[1][\"dt\"])\n",
    "    temperatures.append(hourly_data[1][\"temp\"])\n",
    "    air_pressure.append(hourly_data[1][\"pressure\"])\n",
    "    precipitation.append(hourly_data[1][\"pop\"])\n",
    "\n",
    "\n",
    "weather_dict = {\"date-time\": timestamps,\n",
    "                \"temp\": temperatures,\n",
    "                \"pressure\": air_pressure,\n",
    "                \"precipitation\": precipitation}\n",
    "\n",
    "# converting dictionary to JSON\n",
    "weather_json = json.dumps(weather_dict)\n",
    "\n",
    "# writing JSON to file\n",
    "with open(\"Refined_data.json\", \"w\") as f:\n",
    "    f.write(weather_json)"
   ]
  }
 ],
 "metadata": {
  "kernelspec": {
   "display_name": "Python 3 (ipykernel)",
   "language": "python",
   "name": "python3"
  },
  "language_info": {
   "codemirror_mode": {
    "name": "ipython",
    "version": 3
   },
   "file_extension": ".py",
   "mimetype": "text/x-python",
   "name": "python",
   "nbconvert_exporter": "python",
   "pygments_lexer": "ipython3",
   "version": "3.9.13"
  }
 },
 "nbformat": 4,
 "nbformat_minor": 5
}
